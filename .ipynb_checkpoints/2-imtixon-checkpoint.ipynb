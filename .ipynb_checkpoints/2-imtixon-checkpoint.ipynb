{
 "cells": [
  {
   "cell_type": "code",
   "execution_count": null,
   "id": "a8f2d60e",
   "metadata": {},
   "outputs": [],
   "source": [
    "#1-masala\n",
    "n=int(input(\"n = \"))\n",
    "s=0\n",
    "for x in range(0-n,n+1):\n",
    "    if x!=0:\n",
    "        s+=1/x\n",
    "\n",
    "print(\"S = \",s)"
   ]
  },
  {
   "cell_type": "code",
   "execution_count": null,
   "id": "db58512e",
   "metadata": {},
   "outputs": [],
   "source": [
    "#2-masala\n"
   ]
  },
  {
   "cell_type": "code",
   "execution_count": null,
   "id": "a60ae8be",
   "metadata": {},
   "outputs": [],
   "source": [
    "#3-masala\n"
   ]
  },
  {
   "cell_type": "code",
   "execution_count": null,
   "id": "f7afa139",
   "metadata": {},
   "outputs": [],
   "source": [
    "#4-masala\n"
   ]
  },
  {
   "cell_type": "code",
   "execution_count": null,
   "id": "d1d2a77b",
   "metadata": {},
   "outputs": [],
   "source": [
    "#5-masala\n"
   ]
  }
 ],
 "metadata": {
  "kernelspec": {
   "display_name": "Python 3 (ipykernel)",
   "language": "python",
   "name": "python3"
  },
  "language_info": {
   "codemirror_mode": {
    "name": "ipython",
    "version": 3
   },
   "file_extension": ".py",
   "mimetype": "text/x-python",
   "name": "python",
   "nbconvert_exporter": "python",
   "pygments_lexer": "ipython3",
   "version": "3.10.1"
  }
 },
 "nbformat": 4,
 "nbformat_minor": 5
}
