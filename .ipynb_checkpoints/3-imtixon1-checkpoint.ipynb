{
 "cells": [
  {
   "cell_type": "code",
   "execution_count": 24,
   "id": "a8f2d60e",
   "metadata": {},
   "outputs": [
    {
     "name": "stdout",
     "output_type": "stream",
     "text": [
      "n = 10\n",
      "1\n",
      "1\n",
      "3\n",
      "4\n",
      "2\n",
      "4\n",
      "5\n",
      "4\n",
      "2\n",
      "1\n",
      "[3, 5, 4, 2, 1]\n"
     ]
    }
   ],
   "source": [
    "#1-masala\n",
    "n=int(input(\"n = \"))\n",
    "list1 = []\n",
    "list2=[]\n",
    "for x in range (n):\n",
    "    k=int(input())\n",
    "    list1.append(k)\n",
    "for x in range(n):\n",
    "    if list1[x:].count(list1[x])==1:\n",
    "        list2.append(list1[x])\n",
    "print(list2)"
   ]
  },
  {
   "cell_type": "code",
   "execution_count": 10,
   "id": "db58512e",
   "metadata": {},
   "outputs": [
    {
     "name": "stdout",
     "output_type": "stream",
     "text": [
      "n = 20\n",
      "[9, 8, 9, 5, 6, 9, 3, 9, 8, 7, 9, 5, 6, 5, 5, 8, 6, 3, 8, 9]\n",
      "0 19\n",
      "[9, 8, 3, 6, 8, 5, 5, 6, 5, 9, 7, 8, 9, 3, 9, 6, 5, 9, 8, 9] 2\n"
     ]
    }
   ],
   "source": [
    "#2-masala\n",
    "from random import randint\n",
    "n=int(input(\"n = \"))\n",
    "list=[randint(1,9) for i in range (n)]\n",
    "print(list)\n",
    "i=0\n",
    "j=0\n",
    "max=list[0]\n",
    "for x in range(n):\n",
    "    if list[x]>max:\n",
    "        i,j=x,x\n",
    "        max=list[x]\n",
    "    elif list[x]==max:\n",
    "        j=x\n",
    "print(i,j)\n",
    "if i==j:\n",
    "    print(list,\"1\")\n",
    "else:\n",
    "    list1=list[:i]+list[j:i:-1]+list[j:]\n",
    "    print(list1,\"2\")"
   ]
  },
  {
   "cell_type": "code",
   "execution_count": 9,
   "id": "a60ae8be",
   "metadata": {},
   "outputs": [
    {
     "ename": "KeyboardInterrupt",
     "evalue": "Interrupted by user",
     "output_type": "error",
     "traceback": [
      "\u001b[1;31m---------------------------------------------------------------------------\u001b[0m",
      "\u001b[1;31mKeyboardInterrupt\u001b[0m                         Traceback (most recent call last)",
      "\u001b[1;32m~\\AppData\\Local\\Temp/ipykernel_12168/265735109.py\u001b[0m in \u001b[0;36m<module>\u001b[1;34m\u001b[0m\n\u001b[0;32m      1\u001b[0m \u001b[1;31m#3-masala\u001b[0m\u001b[1;33m\u001b[0m\u001b[1;33m\u001b[0m\u001b[0m\n\u001b[1;32m----> 2\u001b[1;33m \u001b[0mn\u001b[0m\u001b[1;33m=\u001b[0m\u001b[0mint\u001b[0m\u001b[1;33m(\u001b[0m\u001b[0minput\u001b[0m\u001b[1;33m(\u001b[0m\u001b[1;33m)\u001b[0m\u001b[1;33m)\u001b[0m\u001b[1;33m\u001b[0m\u001b[1;33m\u001b[0m\u001b[0m\n\u001b[0m\u001b[0;32m      3\u001b[0m \u001b[0mmatrix\u001b[0m\u001b[1;33m=\u001b[0m\u001b[1;33m[\u001b[0m\u001b[1;33m]\u001b[0m\u001b[1;33m\u001b[0m\u001b[1;33m\u001b[0m\u001b[0m\n\u001b[0;32m      4\u001b[0m \u001b[0mmin\u001b[0m\u001b[1;33m=\u001b[0m\u001b[1;33m[\u001b[0m\u001b[1;33m]\u001b[0m\u001b[1;33m\u001b[0m\u001b[1;33m\u001b[0m\u001b[0m\n\u001b[0;32m      5\u001b[0m \u001b[0mmin1\u001b[0m\u001b[1;33m=\u001b[0m\u001b[1;33m[\u001b[0m\u001b[1;33m]\u001b[0m\u001b[1;33m\u001b[0m\u001b[1;33m\u001b[0m\u001b[0m\n",
      "\u001b[1;32m~\\AppData\\Local\\Programs\\Python\\Python310\\lib\\site-packages\\ipykernel\\kernelbase.py\u001b[0m in \u001b[0;36mraw_input\u001b[1;34m(self, prompt)\u001b[0m\n\u001b[0;32m   1005\u001b[0m                 \u001b[1;34m\"raw_input was called, but this frontend does not support input requests.\"\u001b[0m\u001b[1;33m\u001b[0m\u001b[1;33m\u001b[0m\u001b[0m\n\u001b[0;32m   1006\u001b[0m             )\n\u001b[1;32m-> 1007\u001b[1;33m         return self._input_request(\n\u001b[0m\u001b[0;32m   1008\u001b[0m             \u001b[0mstr\u001b[0m\u001b[1;33m(\u001b[0m\u001b[0mprompt\u001b[0m\u001b[1;33m)\u001b[0m\u001b[1;33m,\u001b[0m\u001b[1;33m\u001b[0m\u001b[1;33m\u001b[0m\u001b[0m\n\u001b[0;32m   1009\u001b[0m             \u001b[0mself\u001b[0m\u001b[1;33m.\u001b[0m\u001b[0m_parent_ident\u001b[0m\u001b[1;33m[\u001b[0m\u001b[1;34m\"shell\"\u001b[0m\u001b[1;33m]\u001b[0m\u001b[1;33m,\u001b[0m\u001b[1;33m\u001b[0m\u001b[1;33m\u001b[0m\u001b[0m\n",
      "\u001b[1;32m~\\AppData\\Local\\Programs\\Python\\Python310\\lib\\site-packages\\ipykernel\\kernelbase.py\u001b[0m in \u001b[0;36m_input_request\u001b[1;34m(self, prompt, ident, parent, password)\u001b[0m\n\u001b[0;32m   1050\u001b[0m             \u001b[1;32mexcept\u001b[0m \u001b[0mKeyboardInterrupt\u001b[0m\u001b[1;33m:\u001b[0m\u001b[1;33m\u001b[0m\u001b[1;33m\u001b[0m\u001b[0m\n\u001b[0;32m   1051\u001b[0m                 \u001b[1;31m# re-raise KeyboardInterrupt, to truncate traceback\u001b[0m\u001b[1;33m\u001b[0m\u001b[1;33m\u001b[0m\u001b[0m\n\u001b[1;32m-> 1052\u001b[1;33m                 \u001b[1;32mraise\u001b[0m \u001b[0mKeyboardInterrupt\u001b[0m\u001b[1;33m(\u001b[0m\u001b[1;34m\"Interrupted by user\"\u001b[0m\u001b[1;33m)\u001b[0m \u001b[1;32mfrom\u001b[0m \u001b[1;32mNone\u001b[0m\u001b[1;33m\u001b[0m\u001b[1;33m\u001b[0m\u001b[0m\n\u001b[0m\u001b[0;32m   1053\u001b[0m             \u001b[1;32mexcept\u001b[0m \u001b[0mException\u001b[0m\u001b[1;33m:\u001b[0m\u001b[1;33m\u001b[0m\u001b[1;33m\u001b[0m\u001b[0m\n\u001b[0;32m   1054\u001b[0m                 \u001b[0mself\u001b[0m\u001b[1;33m.\u001b[0m\u001b[0mlog\u001b[0m\u001b[1;33m.\u001b[0m\u001b[0mwarning\u001b[0m\u001b[1;33m(\u001b[0m\u001b[1;34m\"Invalid Message:\"\u001b[0m\u001b[1;33m,\u001b[0m \u001b[0mexc_info\u001b[0m\u001b[1;33m=\u001b[0m\u001b[1;32mTrue\u001b[0m\u001b[1;33m)\u001b[0m\u001b[1;33m\u001b[0m\u001b[1;33m\u001b[0m\u001b[0m\n",
      "\u001b[1;31mKeyboardInterrupt\u001b[0m: Interrupted by user"
     ]
    }
   ],
   "source": [
    "#3-masala\n",
    "n=int(input())\n",
    "matrix=[]\n",
    "min=[]\n",
    "min1=[]\n",
    "index1=[]\n",
    "for i in range(n):\n",
    "    a=[]\n",
    "    for j in range(n):\n",
    "        b=int(input())\n",
    "        a.append(b)\n",
    "    matrix.append(a)\n",
    "for i in range (n):\n",
    "    minimal=matrix[0][i]\n",
    "    for j in range(n):\n",
    "        if minimal>matrix[j][i]:\n",
    "            minimal=matrix[j][i]\n",
    "    min.append(minimal)\n",
    "for x in range (n):\n",
    "    min1.append(min[x])\n",
    "min1.sort()\n",
    "for x in range(n):\n",
    "    index1.append(min.index(min1[x]))\n",
    "for i in range(n):\n",
    "    for j in range(n):\n",
    "        print(matrix[i][index1[j]],end=\" \")\n",
    "    print(\" \")"
   ]
  },
  {
   "cell_type": "code",
   "execution_count": 30,
   "id": "f7afa139",
   "metadata": {},
   "outputs": [
    {
     "name": "stdout",
     "output_type": "stream",
     "text": [
      "n = 2\n",
      "m = 3\n",
      "1\n",
      "2\n",
      "3\n",
      "4\n",
      "5\n",
      "6\n",
      "12\n"
     ]
    }
   ],
   "source": [
    "#4-masala\n",
    "n=int(input(\"n = \"))\n",
    "m=int(input(\"m = \"))\n",
    "s=0\n",
    "for i in range (m):\n",
    "    a=[]\n",
    "    for y in range (n):\n",
    "        b=int(input())\n",
    "        if y==0:\n",
    "            max=b\n",
    "        elif b>max:\n",
    "            max=b\n",
    "        a.append(b)\n",
    "    s+=max\n",
    "print(s)"
   ]
  },
  {
   "cell_type": "code",
   "execution_count": 31,
   "id": "d1d2a77b",
   "metadata": {},
   "outputs": [
    {
     "name": "stdout",
     "output_type": "stream",
     "text": [
      "n = 6\n",
      "0   -1   -2   -3   -4   -5    \n",
      "1    0   -1   -2   -3   -4    \n",
      "2    1    0   -1   -2   -3    \n",
      "3    2    1    0   -1   -2    \n",
      "4    3    2    1    0   -1    \n",
      "5    4    3    2    1    0    \n"
     ]
    }
   ],
   "source": [
    "#5-masala\n",
    "n=int(input(\"n = \"))\n",
    "for i in range(n):\n",
    "    for j in range(n):\n",
    "        if i>0:\n",
    "            print(i, end = \"    \")\n",
    "        else:\n",
    "            print(i, end = \"   \")\n",
    "        i-=1\n",
    "    print(\" \")"
   ]
  }
 ],
 "metadata": {
  "kernelspec": {
   "display_name": "Python 3 (ipykernel)",
   "language": "python",
   "name": "python3"
  },
  "language_info": {
   "codemirror_mode": {
    "name": "ipython",
    "version": 3
   },
   "file_extension": ".py",
   "mimetype": "text/x-python",
   "name": "python",
   "nbconvert_exporter": "python",
   "pygments_lexer": "ipython3",
   "version": "3.10.1"
  }
 },
 "nbformat": 4,
 "nbformat_minor": 5
}
