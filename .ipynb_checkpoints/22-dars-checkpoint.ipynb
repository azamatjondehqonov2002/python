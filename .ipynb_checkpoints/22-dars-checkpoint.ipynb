{
 "cells": [
  {
   "cell_type": "code",
   "execution_count": 1,
   "id": "cf11639a",
   "metadata": {},
   "outputs": [
    {
     "name": "stdout",
     "output_type": "stream",
     "text": [
      "n = 10000\n",
      "6 28 496 8128 "
     ]
    }
   ],
   "source": [
    "# 1-savol\n",
    "n=int(input(\"n = \"))\n",
    "for x in range (1,n):\n",
    "    s=0\n",
    "    i=1\n",
    "    for a in range (1,x):\n",
    "        if x%a==0:\n",
    "            s+=a\n",
    "    if s==x:\n",
    "        print(x, end=\" \")"
   ]
  },
  {
   "cell_type": "code",
   "execution_count": null,
   "id": "c55376b8",
   "metadata": {},
   "outputs": [],
   "source": [
    "#2-masala\n",
    "n = int(input( \"n = \"))\n"
   ]
  },
  {
   "cell_type": "code",
   "execution_count": null,
   "id": "73d050ef",
   "metadata": {},
   "outputs": [],
   "source": []
  }
 ],
 "metadata": {
  "kernelspec": {
   "display_name": "Python 3 (ipykernel)",
   "language": "python",
   "name": "python3"
  },
  "language_info": {
   "codemirror_mode": {
    "name": "ipython",
    "version": 3
   },
   "file_extension": ".py",
   "mimetype": "text/x-python",
   "name": "python",
   "nbconvert_exporter": "python",
   "pygments_lexer": "ipython3",
   "version": "3.10.1"
  }
 },
 "nbformat": 4,
 "nbformat_minor": 5
}
